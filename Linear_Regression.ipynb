{
  "nbformat": 4,
  "nbformat_minor": 0,
  "metadata": {
    "colab": {
      "provenance": [],
      "authorship_tag": "ABX9TyMtnzJINrc8NoWwg7OnzALE",
      "include_colab_link": true
    },
    "kernelspec": {
      "name": "python3",
      "display_name": "Python 3"
    },
    "language_info": {
      "name": "python"
    }
  },
  "cells": [
    {
      "cell_type": "markdown",
      "metadata": {
        "id": "view-in-github",
        "colab_type": "text"
      },
      "source": [
        "<a href=\"https://colab.research.google.com/github/pankajyadav8569/Calculus/blob/main/Linear_Regression.ipynb\" target=\"_parent\"><img src=\"https://colab.research.google.com/assets/colab-badge.svg\" alt=\"Open In Colab\"/></a>"
      ]
    },
    {
      "cell_type": "code",
      "source": [
        "#Linear Regression\n",
        "\n",
        "# Yi = MXi + C + (Ephcilon)i, this is the experimental data\n",
        "import numpy as np\n",
        "import random\n",
        "import math\n",
        "import matplotlib.pyplot as plt"
      ],
      "metadata": {
        "id": "YUmozhAOmb6h"
      },
      "execution_count": null,
      "outputs": []
    },
    {
      "cell_type": "markdown",
      "source": [
        "Here we are graphing Linear regression graph for Linear equation,\n",
        "$$ y_i = mx_i + c + ϵ_i $$\n",
        "To estimate the value of slope and intercept we will find value of $m$ and $c$ so that the following sum of error(SE) is minimized. Expression for SE is as follows:$$SE = \\sum_{i=1}^{n}(y_{i} - m \\cdot x_{i} - c)^2$$ where $m$ is slope and $c$ is intercept.To estimate values of $m$ and $c$ use following equations:\n",
        "$$\\frac{∂SE}{∂m} = 0  \\quad  and \\quad \\frac{∂SE}{∂c} = 0$$\n",
        "Hence calculated values of $m$ and $c$ are:\n",
        "$$m =\\frac{\\overline{xy} - \\overline{x}⋅\\overline{y}}{\\overline{x^2} - (\\overline{x})^2} \\quad \\quad and \\quad \\quad c = \\overline{y} - m \\cdot \\overline{x}$$ Where  $$\\overline{x} = \\frac{1}{n}\\sum_{i=1}^{n}x_{i}  \\quad \\quad and \\quad \\quad \\overline{y} = \\frac{1}{n}\\sum_{i=1}^{n}y_{i} $$"
      ],
      "metadata": {
        "id": "MD_HzODhSAVh"
      }
    },
    {
      "cell_type": "code",
      "source": [
        "x = [i for i in range(1,101)] # vary as x axis (xi) taking as a input\n",
        "\n",
        "Epciloni = []\n",
        "alp = 10\n",
        "i = 0\n",
        "while i<100:\n",
        "  Epcilon = (random.random() - 0.5)*alp\n",
        "  Epciloni.append(Epcilon)\n",
        "\n",
        "  i= i + 1"
      ],
      "metadata": {
        "id": "NQaiGIkWiKjr"
      },
      "execution_count": null,
      "outputs": []
    },
    {
      "cell_type": "code",
      "source": [
        "# Choose any value of slope(m) and constant(c)\n",
        "m = 1\n",
        "C = 2\n",
        "yi = []# Accumulator to store value of y which vary on y axis\n",
        "for i in range(100):\n",
        "  y = m*x[i] + C + Epciloni[i] # y = mxi + c + Epciloni(Error in Experiment)\n",
        "  yi.append(y)"
      ],
      "metadata": {
        "id": "Df2e5vxzsys7"
      },
      "execution_count": null,
      "outputs": []
    },
    {
      "cell_type": "code",
      "source": [
        "# we draw graph y = mx + c\n",
        "n = 100 \n",
        "avg_x = sum(x)/n\n",
        "avg_y = sum(yi)/n\n",
        "avg_xy = sum([x[i]*yi[i] for i in range(n)])/n\n",
        "avg_x2 = sum([x[i]*x[i] for i in range(n)])/n"
      ],
      "metadata": {
        "id": "An6YSS2fZW4s"
      },
      "execution_count": null,
      "outputs": []
    },
    {
      "cell_type": "code",
      "source": [
        "m = (avg_xy - (avg_x*avg_y))/(avg_x2 - (avg_x)**2)\n",
        "c = avg_y - m*avg_x\n",
        "print(m,c)\n",
        "y = [m*x[i] + c for i in range(n)]"
      ],
      "metadata": {
        "colab": {
          "base_uri": "https://localhost:8080/"
        },
        "id": "rKZAyMQOf_ib",
        "outputId": "04c555da-8a81-4f2f-b750-57ca37b17b1f"
      },
      "execution_count": null,
      "outputs": [
        {
          "output_type": "stream",
          "name": "stdout",
          "text": [
            "1.004647939604426 1.1306743702991326\n"
          ]
        }
      ]
    },
    {
      "cell_type": "code",
      "source": [
        "# fig = go.Figure()\n",
        "# fig.add_trace(go.Scatter(name = \"first\", x = x, y = yi))\n",
        "# fig.add_trace(go.Scatter(name = \"second\", x = x, y = y))\n",
        "# fig.show()\n",
        "plt.plot(x,yi,color='red')\n",
        "plt.plot(x,y,color='blue')"
      ],
      "metadata": {
        "colab": {
          "base_uri": "https://localhost:8080/",
          "height": 447
        },
        "id": "23bAED0RinCT",
        "outputId": "45e8dd77-47d6-40ae-97a6-e95ce84bfc91"
      },
      "execution_count": null,
      "outputs": [
        {
          "output_type": "execute_result",
          "data": {
            "text/plain": [
              "[<matplotlib.lines.Line2D at 0x7ff1be9da580>]"
            ]
          },
          "metadata": {},
          "execution_count": 13
        },
        {
          "output_type": "display_data",
          "data": {
            "text/plain": [
              "<Figure size 640x480 with 1 Axes>"
            ],
            "image/png": "[encoded data removed]"
          },
          "metadata": {}
        }
      ]
    },
    {
      "cell_type": "markdown",
      "source": [
        "# Linear regression for Exponential Function\n",
        "$$ y_i = β e^{mx_i +ϵ_i}$$\n",
        "now take log on both side such that it will become linear equation and then we can do it using previous one\n",
        "$$ log(y_i) = log(β) + mx_i +ϵ_i $$\n",
        "consider  $$ y_i^{new}= log(y_i), c = log(β) m = γ$$\n",
        "\n",
        "now apply linear regression method to find $β$ and $γ$."
      ],
      "metadata": {
        "id": "C2OoAECJR3yA"
      }
    },
    {
      "cell_type": "code",
      "source": [
        "# Error for exponential \n",
        "Epciloni = []\n",
        "alp = 0.1 \n",
        "i = 0\n",
        "while i < 100:\n",
        "  Epcilon = (random.random() - 0.5)*alp\n",
        "  Epciloni.append(Epcilon)\n",
        "\n",
        "  i= i + 1"
      ],
      "metadata": {
        "id": "DypghYLyo0Vd"
      },
      "execution_count": null,
      "outputs": []
    },
    {
      "cell_type": "code",
      "source": [
        "# Yi = bita*e(gama*Xi + Epciloni)\n",
        "bita = 3\n",
        "gama = 0.05\n",
        "y1i = [bita*math.exp(gama*x[i] + Epciloni[i]) for i in range(n)]"
      ],
      "metadata": {
        "id": "UD1jlMXmwT1j"
      },
      "execution_count": null,
      "outputs": []
    },
    {
      "cell_type": "code",
      "source": [
        "plt.plot(x,y1i)"
      ],
      "metadata": {
        "colab": {
          "base_uri": "https://localhost:8080/",
          "height": 447
        },
        "id": "YzEEzQnZz4EL",
        "outputId": "0b7a4aa8-444f-4eb5-a76e-54ecd238edbb"
      },
      "execution_count": null,
      "outputs": [
        {
          "output_type": "execute_result",
          "data": {
            "text/plain": [
              "[<matplotlib.lines.Line2D at 0x7ff1bec92e80>]"
            ]
          },
          "metadata": {},
          "execution_count": 16
        },
        {
          "output_type": "display_data",
          "data": {
            "text/plain": [
              "<Figure size 640x480 with 1 Axes>"
            ],
            "image/png": "[encoded data removed]"
          },
          "metadata": {}
        }
      ]
    },
    {
      "cell_type": "code",
      "source": [
        "Zi = [math.log(abs(yi[i])) for i in range(n)]\n",
        "avg_x = sum(x)/n\n",
        "avg_Z = sum(Zi)/n\n",
        "avg_xZ = sum([x[i]*Zi[i] for i in range(n)])/n\n",
        "avg_x2 = sum([x[i]*x[i] for i in range(n)])/n"
      ],
      "metadata": {
        "id": "M2yPF5Il7YbO"
      },
      "execution_count": null,
      "outputs": []
    },
    {
      "cell_type": "code",
      "source": [
        "m = (avg_xZ - (avg_x*avg_Z))/(avg_x2 - (avg_x)**2)\n",
        "c = avg_Z - m*avg_x\n",
        "bita = math.exp(c)\n",
        "gama = m\n",
        "y2i = [bita*math.exp(gama*x[i]) for i in range(n)]"
      ],
      "metadata": {
        "id": "LnsJ5wYQsTRv"
      },
      "execution_count": null,
      "outputs": []
    },
    {
      "cell_type": "code",
      "source": [
        "plt.plot(x,y1i,color='red')\n",
        "plt.plot(x,y2i,color='blue')"
      ],
      "metadata": {
        "colab": {
          "base_uri": "https://localhost:8080/",
          "height": 447
        },
        "id": "33aCAJNEs1sZ",
        "outputId": "3a0cfb55-ffba-4a39-d977-dae1fffe26b4"
      },
      "execution_count": null,
      "outputs": [
        {
          "output_type": "execute_result",
          "data": {
            "text/plain": [
              "[<matplotlib.lines.Line2D at 0x7ff1be416fd0>]"
            ]
          },
          "metadata": {},
          "execution_count": 26
        },
        {
          "output_type": "display_data",
          "data": {
            "text/plain": [
              "<Figure size 640x480 with 1 Axes>"
            ],
            "image/png": "[encoded data removed]"
          },
          "metadata": {}
        }
      ]
    },
    {
      "cell_type": "markdown",
      "source": [
        "# Here we are graphing linear regression for nth degree polynomial\n",
        "$$ y_i = m_nx^n + m_{n-1}x^{n-1} + ... + m_1x^1 + m_0x^0 $$\n",
        "now we will change this polynomial to multidimensional linear equation\n",
        "\n",
        "\n",
        "treat $x^n$ as nth axis and replace it with $x_n$  as $$ x^n = x_n$$\n",
        "\n",
        "similrly, treat $x^{n-1}$ as (n-1)th axis and replace it with $x_{n-1}$  as \n",
        "$$ x^{n-1} = x_{n-1} $$\n",
        "\n",
        "and so on ...\n",
        "then replace $ m_nx_n + m_{n-1}x_{n-1} + ... + m_1x_1 + m_0x_0 $ with MX\n",
        "so our equation will be $ Y = MX $\n",
        "\n",
        "then we need to solve it using matrix "
      ],
      "metadata": {
        "id": "gsaserELRyS6"
      }
    },
    {
      "cell_type": "code",
      "source": [
        "degree = int(input('degree of polynomial: '))\n",
        "total_variable = degree\n",
        "mlist = []        # this is list for coefficint\n",
        "Xlist = []\n",
        "power = 0         # starting power with 0\n",
        "while degree >= 0:\n",
        "  m = float(input('enter coefficient: '))\n",
        "  xlist = [i**power for i in range(total_variable+1)]\n",
        "  Xlist.append(xlist)\n",
        "  mlist.append(m)\n",
        "  power += 1\n",
        "  degree = degree - 1"
      ],
      "metadata": {
        "id": "FtJKQtu4BK48",
        "colab": {
          "base_uri": "https://localhost:8080/"
        },
        "outputId": "a95f43b2-5304-4c9e-900a-d6c4fab50c1e"
      },
      "execution_count": null,
      "outputs": [
        {
          "name": "stdout",
          "output_type": "stream",
          "text": [
            "degree of polynomial: 2\n",
            "enter coefficient: 1\n",
            "enter coefficient: 3\n",
            "enter coefficient: 4\n"
          ]
        }
      ]
    },
    {
      "cell_type": "code",
      "source": [
        "\n",
        "def Error_ylist(list_2d, list_1d):\n",
        "  array_2d = np.array(list_2d)\n",
        "  array_1d = np.array(list_1d)\n",
        "  mul_array = (array_2d @ array_1d)\n",
        "  result = [i + (random.random() - 0.5) for i in mul_array]\n",
        "  return result\n",
        "print(Error_ylist(Xlist, mlist))"
      ],
      "metadata": {
        "colab": {
          "base_uri": "https://localhost:8080/"
        },
        "id": "7_51LvRjNSM5",
        "outputId": "05020557-9e34-4162-90e3-57f8cb228730"
      },
      "execution_count": null,
      "outputs": [
        {
          "output_type": "stream",
          "name": "stdout",
          "text": [
            "[7.664075050933508, 10.75998290540437, 19.220875484125205]\n"
          ]
        }
      ]
    },
    {
      "cell_type": "code",
      "source": [
        "matrix = np.array(Xlist)\n",
        "matrix_inv = np.linalg.inv(matrix)\n",
        "lst = Error_ylist(Xlist, mlist)\n",
        "correct_mlist =  matrix_inv @ np.array(lst).reshape(-1, 1)\n",
        "print(mlist)\n",
        "     "
      ],
      "metadata": {
        "colab": {
          "base_uri": "https://localhost:8080/"
        },
        "id": "z9aXoUJTNX2o",
        "outputId": "7b67d65c-dbf0-4491-97d5-d089e7ad82fd"
      },
      "execution_count": null,
      "outputs": [
        {
          "output_type": "stream",
          "name": "stdout",
          "text": [
            "[1.0, 3.0, 4.0]\n"
          ]
        }
      ]
    },
    {
      "cell_type": "code",
      "source": [
        "def Correct_ylist(list_2d, list_1d):\n",
        "  array_2d = np.array(list_2d)\n",
        "  array_1d = np.array(list_1d)\n",
        "  return array_2d @ array_1d\n",
        "print(Correct_ylist(Xlist, correct_mlist))\n",
        "     "
      ],
      "metadata": {
        "colab": {
          "base_uri": "https://localhost:8080/"
        },
        "id": "C1mHJ4WGNbU8",
        "outputId": "6ad93bf1-1be6-4ed8-a245-8e3ad0eb79c6"
      },
      "execution_count": null,
      "outputs": [
        {
          "output_type": "stream",
          "name": "stdout",
          "text": [
            "[[ 7.63325602]\n",
            " [11.19486993]\n",
            " [18.6349765 ]]\n"
          ]
        }
      ]
    }
  ]
}