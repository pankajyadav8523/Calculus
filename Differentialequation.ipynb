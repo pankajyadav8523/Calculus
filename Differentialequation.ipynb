{
  "nbformat": 4,
  "nbformat_minor": 0,
  "metadata": {
    "colab": {
      "provenance": [],
      "authorship_tag": "ABX9TyM9mD5jRYUAjjUKeaQIPWBk",
      "include_colab_link": true
    },
    "kernelspec": {
      "name": "python3",
      "display_name": "Python 3"
    },
    "language_info": {
      "name": "python"
    }
  },
  "cells": [
    {
      "cell_type": "markdown",
      "metadata": {
        "id": "view-in-github",
        "colab_type": "text"
      },
      "source": [
        "<a href=\"https://colab.research.google.com/github/pankajyadav8569/Calculus/blob/main/Differentialequation.ipynb\" target=\"_parent\"><img src=\"https://colab.research.google.com/assets/colab-badge.svg\" alt=\"Open In Colab\"/></a>"
      ]
    },
    {
      "cell_type": "code",
      "source": [
        "import math\n",
        "import matplotlib.pyplot as plt"
      ],
      "metadata": {
        "id": "pqw-wSp68PoJ"
      },
      "execution_count": null,
      "outputs": []
    },
    {
      "cell_type": "code",
      "source": [
        "A = int(input())\n",
        "B = int(input())\n",
        "C = int(input())\n",
        "x0 = int(input())\n",
        "v0 = int(input())"
      ],
      "metadata": {
        "id": "N6A9zT__9XJV",
        "colab": {
          "base_uri": "https://localhost:8080/"
        },
        "outputId": "a55a1957-2433-4ef3-e556-ca3e487e6b0f"
      },
      "execution_count": null,
      "outputs": [
        {
          "name": "stdout",
          "output_type": "stream",
          "text": [
            "1\n",
            "1\n",
            "4\n",
            "2\n",
            "1\n"
          ]
        }
      ]
    },
    {
      "cell_type": "code",
      "source": [
        "# here l1 and l2 is lambda1 and lambda2 respectively\n",
        "l1 = -B/(2*A) + pow(abs(B**2 - 4*A*C),0.5)/(2*A) \n",
        "l2 = -B/(2*A) - pow(abs(B**2 - 4*A*C),0.5)/(2*A)\n",
        "if l1 != l2:\n",
        "  D1 = (v0 - l2*x0)/(l1 - l2)\n",
        "  D2 = (v0 - l1*x0)/(l2 - l1)\n",
        "# here alp stands for alpha \n",
        "alp = -B/(2*A) \n",
        "bita = pow(abs(B**2 - 4*A*C),0.5)/(2*A)\n"
      ],
      "metadata": {
        "id": "2Z3kGsU38J3W"
      },
      "execution_count": null,
      "outputs": []
    },
    {
      "cell_type": "code",
      "source": [
        "# here t is independent variable which is vary in x axis\n",
        "t = [i/10 for i in range(51)]\n"
      ],
      "metadata": {
        "id": "_wUTl-bLvbW6"
      },
      "execution_count": null,
      "outputs": []
    },
    {
      "cell_type": "code",
      "source": [
        "# here sol is solution of over damping and it vary in y axis\n",
        "\n",
        "if (B**2 - 4*A*C) > 0:\n",
        "  print('it is a over damping')\n",
        "  sol = [] # it is a accumulator to store solution of overdamping\n",
        "  for i in range(len(t)):\n",
        "    x = D1*math.exp(l1*t[i]) + D2*math.exp(l2*t[i])\n",
        "    sol.append(x)\n",
        "  plt.plot(t, sol)\n",
        "  plt.show()"
      ],
      "metadata": {
        "id": "aPH1PwzP4jgz",
        "colab": {
          "base_uri": "https://localhost:8080/",
          "height": 282
        },
        "outputId": "a03cb460-7535-493b-ff48-802c9fe5dac5"
      },
      "execution_count": null,
      "outputs": [
        {
          "output_type": "stream",
          "name": "stdout",
          "text": [
            "it is a over damping\n"
          ]
        },
        {
          "output_type": "display_data",
          "data": {
            "text/plain": [
              "<Figure size 432x288 with 1 Axes>"
            ],
            "image/png": "[encoded data removed]"
          },
          "metadata": {
            "needs_background": "light"
          }
        }
      ]
    },
    {
      "cell_type": "code",
      "source": [
        "# here sol is solution of critical damping and it vary in y axis\n",
        "\n",
        "if (B**2 - 4*A*C) == 0:\n",
        "  print('it is a critical damping')\n",
        "  sol = [] # it is a accumulator to store solution of critical damping\n",
        "  for i in range(len(t)):\n",
        "    x = (x0 + (v0 - alp*x0))*math.exp(alp*t[i]) # here lambda is equal to alpha because it's case of critical damping (i.e lambda = alpha = -B/2*A )\n",
        "    sol.append(x)\n",
        "  plt.plot(t, sol)\n",
        "  plt.show()\n"
      ],
      "metadata": {
        "id": "dOb3YQVp4rGb",
        "colab": {
          "base_uri": "https://localhost:8080/",
          "height": 282
        },
        "outputId": "12c159a3-e8a2-4736-c95a-68af5844a711"
      },
      "execution_count": null,
      "outputs": [
        {
          "output_type": "stream",
          "name": "stdout",
          "text": [
            "it is a critical damping\n"
          ]
        },
        {
          "output_type": "display_data",
          "data": {
            "text/plain": [
              "<Figure size 432x288 with 1 Axes>"
            ],
            "image/png": "[encoded data removed]"
          },
          "metadata": {
            "needs_background": "light"
          }
        }
      ]
    },
    {
      "cell_type": "code",
      "source": [
        "# here sol is solution of underdamped and it vary in y axis\n",
        "\n",
        "if (B**2 - 4*A*C) < 0:\n",
        "  print('it is a underdamped')\n",
        "    \n",
        "  sol = [] # it is a accumulator to store solution of underdamped\n",
        "  for i in range(len(t)):\n",
        "    x = math.exp(-alp*t[i])*((x0*math.cos(bita*t[i]) + (v0 + alp*x0)*math.sin(bita*t[i])/bita))  \n",
        "    sol.append(x)\n",
        "  plt.plot(t, sol)\n",
        "  plt.show()\n",
        "  \n"
      ],
      "metadata": {
        "id": "XKEoF7cp4vzQ",
        "colab": {
          "base_uri": "https://localhost:8080/",
          "height": 282
        },
        "outputId": "c44c7325-201a-46da-a7b5-23c229dcd648"
      },
      "execution_count": null,
      "outputs": [
        {
          "output_type": "stream",
          "name": "stdout",
          "text": [
            "it is a underdamped\n"
          ]
        },
        {
          "output_type": "display_data",
          "data": {
            "text/plain": [
              "<Figure size 432x288 with 1 Axes>"
            ],
            "image/png": "[encoded data removed]"
          },
          "metadata": {
            "needs_background": "light"
          }
        }
      ]
    }
  ]
}